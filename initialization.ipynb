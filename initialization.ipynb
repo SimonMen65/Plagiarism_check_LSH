{
 "cells": [
  {
   "cell_type": "code",
   "execution_count": 65,
   "metadata": {},
   "outputs": [],
   "source": [
    "from __future__ import division\n",
    "import os\n",
    "import pickle\n",
    "import codecs\n",
    "from glob import glob\n",
    "import re"
   ]
  },
  {
   "cell_type": "code",
   "execution_count": 66,
   "metadata": {},
   "outputs": [],
   "source": [
    "DATA_SOURCE = './data/source'\n",
    "SUSPICIOUS_DOCS = './data/suspicious_doc'"
   ]
  },
  {
   "cell_type": "markdown",
   "metadata": {},
   "source": [
    "### Preprocessing"
   ]
  },
  {
   "cell_type": "code",
   "execution_count": 67,
   "metadata": {},
   "outputs": [],
   "source": [
    "from datasketch import MinHash, MinHashLSH\n",
    "import nltk\n",
    "from nltk.tokenize import wordpunct_tokenize\n",
    "import pickle\n",
    "import re\n",
    "\n",
    "def tokenize_file(file_name: str) -> list:\n",
    "    return wordpunct_tokenize(codecs.open(file_name).read())"
   ]
  },
  {
   "cell_type": "markdown",
   "metadata": {},
   "source": [
    "### LSH model"
   ]
  },
  {
   "cell_type": "code",
   "execution_count": 68,
   "metadata": {},
   "outputs": [],
   "source": [
    "def create_minhash(text, n_gram, is_file=True, num_perm=128):\n",
    "    \"\"\"\n",
    "    Generate minhash from single file or text given ngrams and number of permutation\n",
    "    \"\"\"\n",
    "    if is_file:\n",
    "        tokens = tokenize_file(text)\n",
    "    else:\n",
    "        tokens = wordpunct_tokenize(text)\n",
    "    minhash = MinHash(num_perm=num_perm)\n",
    "    for gram in nltk.ngrams(tokens, n_gram):\n",
    "        minhash.update(\" \".join(gram).encode('utf-8')) \n",
    "    return minhash\n",
    "\n",
    "def create_lsh(source_dir, threshold=.3, n_gram=3, num_perm=128, max_num=10) -> MinHashLSH:\n",
    "    \"\"\"\n",
    "    Create an LSH instance from text files in source directory given threshold, n-grams, and number of permutation\n",
    "    Returns an LSH object and a list of source file numbers \n",
    "    \"\"\"\n",
    "    lsh = MinHashLSH(num_perm=num_perm, threshold=threshold)#, \n",
    "                   #storage_config={'type': 'redis', 'redis': {'host': 'localhost', 'port': 6379, 'db': 1},'name': 1})\n",
    "    file_names = glob(os.path.join(source_dir, '*.txt'))[:max_num]\n",
    "    keys = []\n",
    "    minhashes = []\n",
    "    for fname in file_names:\n",
    "        minhash = create_minhash(fname, n_gram, num_perm=num_perm)\n",
    "        keys.append(re.findall(r'\\d+', fname)[0])\n",
    "        minhashes.append(minhash)\n",
    "    with lsh.insertion_session() as session:\n",
    "        for key, minhash in zip(keys, minhashes):\n",
    "            session.insert(key, minhash)\n",
    "    return lsh, keys\n",
    "\n",
    "def save_lsh(lsh, model_dir):\n",
    "    \"\"\"\n",
    "    Dump lsh model to pickle in storage for later use\n",
    "    \"\"\"\n",
    "    pass\n",
    "\n",
    "def load_lsh(model_dir):\n",
    "    \"\"\"\n",
    "    Load pickled LSH model to memory\n",
    "    \"\"\"\n",
    "    pass\n"
   ]
  },
  {
   "cell_type": "markdown",
   "metadata": {},
   "source": [
    "#### Testing"
   ]
  },
  {
   "cell_type": "code",
   "execution_count": 74,
   "metadata": {},
   "outputs": [],
   "source": [
    "lsh, keys = create_lsh(DATA_SOURCE, threshold=.0, max_num=10)"
   ]
  },
  {
   "cell_type": "markdown",
   "metadata": {},
   "source": [
    "### Model Evaluation"
   ]
  },
  {
   "cell_type": "code",
   "execution_count": 75,
   "metadata": {},
   "outputs": [],
   "source": [
    "def eval_single(lsh, text, n_gram, num_perm):\n",
    "    minhash = create_minhash(text, n_gram, is_file=True, num_perm=128)\n",
    "    result = lsh.query(minhash)\n",
    "    return result\n",
    "\n",
    "def eval_list():\n",
    "    pass"
   ]
  },
  {
   "cell_type": "code",
   "execution_count": 80,
   "metadata": {},
   "outputs": [
    {
     "data": {
      "text/plain": [
       "['00590', '01842', '01671', '01117']"
      ]
     },
     "execution_count": 80,
     "metadata": {},
     "output_type": "execute_result"
    }
   ],
   "source": [
    "text = \"./data/suspicious/suspicious-document00005.txt\"\n",
    "eval_single(lsh, text, 3, 128) "
   ]
  }
 ],
 "metadata": {
  "interpreter": {
   "hash": "c94922506fb676f83812e148df9e303d1c678c5ed3aaf1a9305c9d04cd8ba7f0"
  },
  "kernelspec": {
   "display_name": "Python 3.9.7 ('base')",
   "language": "python",
   "name": "python3"
  },
  "language_info": {
   "codemirror_mode": {
    "name": "ipython",
    "version": 3
   },
   "file_extension": ".py",
   "mimetype": "text/x-python",
   "name": "python",
   "nbconvert_exporter": "python",
   "pygments_lexer": "ipython3",
   "version": "3.9.7"
  },
  "orig_nbformat": 4
 },
 "nbformat": 4,
 "nbformat_minor": 2
}
