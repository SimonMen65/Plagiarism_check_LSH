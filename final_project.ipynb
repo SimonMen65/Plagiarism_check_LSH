{
 "cells": [
  {
   "cell_type": "markdown",
   "metadata": {},
   "source": [
    "### Final Project: LSH Plagiarism Detector\n",
    "### CS-UY 3943: Mining Massive Dataset  \n",
    "Zachary Zeng #nz900  \n",
    "Simon Men: "
   ]
  },
  {
   "cell_type": "markdown",
   "metadata": {},
   "source": [
    "#### Final Report\n",
    "* Detailed description your models\n",
    "    * Describe what kinds of statistical methods and machine learning algorithms you used\n",
    "    * How did you validate your models?\n",
    "    * What other models did you consider, and why didn't you proceed with those?\n",
    "    * Some suggested keywords are regression, classification, recommendations, cross-validation,\n",
    "    overfitting, etc.\n",
    "* What business applications do your findings have?\n",
    "* Optionally, describe how your analyses would be implemented in a live system (e.g., a personal\n",
    "recommendation system or a tweetbot). Where would the data live, how would you represent your\n",
    "results, how would end-users access it? When would your model learn new parameters? Describe in\n",
    "detail the pipeline from data ingestion to end-user experience"
   ]
  },
  {
   "cell_type": "markdown",
   "metadata": {},
   "source": [
    "### Problem description adnd Hypotheis\n",
    "In this project, we are trying to use Locality Sensitivity Hashing and MinHash to identify plagiarism based on content similarity. Note that, the plagiarism works we are trying to identify in this case are mostly exact copy and paste without parahprases, since other deep learning models are able to detect plagiarism with paraphrases and word replacements. In our case, given a set of source documents and a set of suspicious documents which include varying amount of contents from source documents, the model performs a binary classification on if the suspicious document contains plagiarism. "
   ]
  },
  {
   "cell_type": "code",
   "execution_count": 14,
   "metadata": {},
   "outputs": [],
   "source": [
    "from __future__ import division\n",
    "import os\n",
    "import pickle\n",
    "import codecs\n",
    "from glob import glob\n",
    "import re\n",
    "import numpy as np\n",
    "import pandas as pd"
   ]
  },
  {
   "cell_type": "code",
   "execution_count": 5,
   "metadata": {},
   "outputs": [],
   "source": [
    "DATA_SOURCE = \"./source\"\n",
    "SUSPICIOUS_DOCS = \"./test\"\n",
    "FILE_INFO = \"file_info.csv\""
   ]
  },
  {
   "cell_type": "markdown",
   "metadata": {},
   "source": [
    "### Dataset Description\n"
   ]
  },
  {
   "cell_type": "markdown",
   "metadata": {},
   "source": [
    "* Description of your dataset and how it was obtained\n",
    "    * Some basic statistics (# of rows, some aggregates)\n",
    "    * What did you learn in the initial data exploration phase?\n",
    "    * How did you decide what features to use in your analysis?\n",
    "    * Description of any pre-processing steps you took"
   ]
  },
  {
   "cell_type": "code",
   "execution_count": 6,
   "metadata": {},
   "outputs": [
    {
     "data": {
      "text/html": [
       "<div>\n",
       "<style scoped>\n",
       "    .dataframe tbody tr th:only-of-type {\n",
       "        vertical-align: middle;\n",
       "    }\n",
       "\n",
       "    .dataframe tbody tr th {\n",
       "        vertical-align: top;\n",
       "    }\n",
       "\n",
       "    .dataframe thead th {\n",
       "        text-align: right;\n",
       "    }\n",
       "</style>\n",
       "<table border=\"1\" class=\"dataframe\">\n",
       "  <thead>\n",
       "    <tr style=\"text-align: right;\">\n",
       "      <th></th>\n",
       "      <th>File</th>\n",
       "      <th>Task</th>\n",
       "      <th>Category</th>\n",
       "    </tr>\n",
       "  </thead>\n",
       "  <tbody>\n",
       "    <tr>\n",
       "      <th>0</th>\n",
       "      <td>g0pA_taska.txt</td>\n",
       "      <td>a</td>\n",
       "      <td>non</td>\n",
       "    </tr>\n",
       "    <tr>\n",
       "      <th>1</th>\n",
       "      <td>g0pA_taskb.txt</td>\n",
       "      <td>b</td>\n",
       "      <td>cut</td>\n",
       "    </tr>\n",
       "    <tr>\n",
       "      <th>2</th>\n",
       "      <td>g0pA_taskc.txt</td>\n",
       "      <td>c</td>\n",
       "      <td>light</td>\n",
       "    </tr>\n",
       "    <tr>\n",
       "      <th>3</th>\n",
       "      <td>g0pA_taskd.txt</td>\n",
       "      <td>d</td>\n",
       "      <td>heavy</td>\n",
       "    </tr>\n",
       "    <tr>\n",
       "      <th>4</th>\n",
       "      <td>g0pA_taske.txt</td>\n",
       "      <td>e</td>\n",
       "      <td>non</td>\n",
       "    </tr>\n",
       "    <tr>\n",
       "      <th>...</th>\n",
       "      <td>...</td>\n",
       "      <td>...</td>\n",
       "      <td>...</td>\n",
       "    </tr>\n",
       "    <tr>\n",
       "      <th>95</th>\n",
       "      <td>orig_taska.txt</td>\n",
       "      <td>a</td>\n",
       "      <td>orig</td>\n",
       "    </tr>\n",
       "    <tr>\n",
       "      <th>96</th>\n",
       "      <td>orig_taskb.txt</td>\n",
       "      <td>b</td>\n",
       "      <td>orig</td>\n",
       "    </tr>\n",
       "    <tr>\n",
       "      <th>97</th>\n",
       "      <td>orig_taskc.txt</td>\n",
       "      <td>c</td>\n",
       "      <td>orig</td>\n",
       "    </tr>\n",
       "    <tr>\n",
       "      <th>98</th>\n",
       "      <td>orig_taskd.txt</td>\n",
       "      <td>d</td>\n",
       "      <td>orig</td>\n",
       "    </tr>\n",
       "    <tr>\n",
       "      <th>99</th>\n",
       "      <td>orig_taske.txt</td>\n",
       "      <td>e</td>\n",
       "      <td>orig</td>\n",
       "    </tr>\n",
       "  </tbody>\n",
       "</table>\n",
       "<p>100 rows × 3 columns</p>\n",
       "</div>"
      ],
      "text/plain": [
       "              File Task Category\n",
       "0   g0pA_taska.txt    a      non\n",
       "1   g0pA_taskb.txt    b      cut\n",
       "2   g0pA_taskc.txt    c    light\n",
       "3   g0pA_taskd.txt    d    heavy\n",
       "4   g0pA_taske.txt    e      non\n",
       "..             ...  ...      ...\n",
       "95  orig_taska.txt    a     orig\n",
       "96  orig_taskb.txt    b     orig\n",
       "97  orig_taskc.txt    c     orig\n",
       "98  orig_taskd.txt    d     orig\n",
       "99  orig_taske.txt    e     orig\n",
       "\n",
       "[100 rows x 3 columns]"
      ]
     },
     "execution_count": 6,
     "metadata": {},
     "output_type": "execute_result"
    }
   ],
   "source": [
    "pd.read_csv(FILE_INFO)"
   ]
  },
  {
   "cell_type": "code",
   "execution_count": 25,
   "metadata": {},
   "outputs": [
    {
     "data": {
      "text/plain": [
       "(['./source/orig_taskd.txt',\n",
       "  './source/orig_taske.txt',\n",
       "  './source/orig_taska.txt',\n",
       "  './source/orig_taskb.txt',\n",
       "  './source/orig_taskc.txt'],\n",
       " ['./test/g0pC_taskc.txt',\n",
       "  './test/g0pE_taskd.txt',\n",
       "  './test/g0pE_taske.txt',\n",
       "  './test/g0pC_taskb.txt',\n",
       "  './test/g1pA_taske.txt',\n",
       "  './test/g3pB_taskd.txt',\n",
       "  './test/g3pB_taske.txt',\n",
       "  './test/g0pC_taska.txt',\n",
       "  './test/g1pA_taskd.txt',\n",
       "  './test/g0pC_taske.txt',\n",
       "  './test/g3pB_taska.txt',\n",
       "  './test/g0pE_taskb.txt',\n",
       "  './test/g0pE_taskc.txt',\n",
       "  './test/g0pC_taskd.txt',\n",
       "  './test/g1pA_taska.txt',\n",
       "  './test/g1pA_taskc.txt',\n",
       "  './test/g3pB_taskb.txt',\n",
       "  './test/g0pE_taska.txt',\n",
       "  './test/g3pB_taskc.txt',\n",
       "  './test/g1pA_taskb.txt',\n",
       "  './test/g2pA_taskb.txt',\n",
       "  './test/g0pD_taskd.txt',\n",
       "  './test/g0pB_taskc.txt',\n",
       "  './test/g0pB_taskb.txt',\n",
       "  './test/g0pD_taske.txt',\n",
       "  './test/g2pA_taskc.txt',\n",
       "  './test/g3pC_taskd.txt',\n",
       "  './test/g2pA_taska.txt',\n",
       "  './test/g0pB_taska.txt',\n",
       "  './test/g3pC_taske.txt',\n",
       "  './test/g3pC_taska.txt',\n",
       "  './test/g2pA_taskd.txt',\n",
       "  './test/g0pD_taskb.txt',\n",
       "  './test/g0pB_taske.txt',\n",
       "  './test/g0pB_taskd.txt',\n",
       "  './test/g0pD_taskc.txt',\n",
       "  './test/g2pA_taske.txt',\n",
       "  './test/g3pC_taskb.txt',\n",
       "  './test/g0pD_taska.txt',\n",
       "  './test/g3pC_taskc.txt',\n",
       "  './test/g2pB_taskc.txt',\n",
       "  './test/g4pC_taskb.txt',\n",
       "  './test/g0pA_taskb.txt',\n",
       "  './test/g4pE_taske.txt',\n",
       "  './test/g4pE_taskd.txt',\n",
       "  './test/g0pA_taskc.txt',\n",
       "  './test/g4pC_taskc.txt',\n",
       "  './test/g2pB_taskb.txt',\n",
       "  './test/g4pC_taska.txt',\n",
       "  './test/g0pA_taska.txt',\n",
       "  './test/g2pB_taska.txt',\n",
       "  './test/g2pB_taske.txt',\n",
       "  './test/g4pC_taskd.txt',\n",
       "  './test/g4pE_taskc.txt',\n",
       "  './test/g0pA_taskd.txt',\n",
       "  './test/g0pA_taske.txt',\n",
       "  './test/g4pE_taskb.txt',\n",
       "  './test/g4pC_taske.txt',\n",
       "  './test/g2pB_taskd.txt',\n",
       "  './test/g4pE_taska.txt',\n",
       "  './test/g4pD_taske.txt',\n",
       "  './test/g2pE_taskd.txt',\n",
       "  './test/g2pC_taskc.txt',\n",
       "  './test/g4pB_taskb.txt',\n",
       "  './test/g1pD_taska.txt',\n",
       "  './test/g4pB_taskc.txt',\n",
       "  './test/g2pC_taskb.txt',\n",
       "  './test/g2pE_taske.txt',\n",
       "  './test/g4pD_taskd.txt',\n",
       "  './test/g1pB_taskd.txt',\n",
       "  './test/g4pB_taska.txt',\n",
       "  './test/g3pA_taske.txt',\n",
       "  './test/g1pD_taskc.txt',\n",
       "  './test/g1pD_taskb.txt',\n",
       "  './test/g3pA_taskd.txt',\n",
       "  './test/g2pC_taska.txt',\n",
       "  './test/g1pB_taske.txt',\n",
       "  './test/g4pD_taskc.txt',\n",
       "  './test/g2pE_taskb.txt',\n",
       "  './test/g1pB_taska.txt',\n",
       "  './test/g2pC_taske.txt',\n",
       "  './test/g4pB_taskd.txt',\n",
       "  './test/g3pA_taska.txt',\n",
       "  './test/g4pB_taske.txt',\n",
       "  './test/g2pC_taskd.txt',\n",
       "  './test/g2pE_taskc.txt',\n",
       "  './test/g4pD_taskb.txt',\n",
       "  './test/g2pE_taska.txt',\n",
       "  './test/g1pB_taskb.txt',\n",
       "  './test/g3pA_taskc.txt',\n",
       "  './test/g1pD_taske.txt',\n",
       "  './test/g1pD_taskd.txt',\n",
       "  './test/g3pA_taskb.txt',\n",
       "  './test/g1pB_taskc.txt',\n",
       "  './test/g4pD_taska.txt'])"
      ]
     },
     "execution_count": 25,
     "metadata": {},
     "output_type": "execute_result"
    }
   ],
   "source": [
    "glob(os.path.join(DATA_SOURCE, '*.txt')), glob(os.path.join(SUSPICIOUS_DOCS, '*.txt'))"
   ]
  },
  {
   "cell_type": "code",
   "execution_count": 1,
   "metadata": {},
   "outputs": [],
   "source": [
    "try:\n",
    "    from datasketch import MinHash, MinHashLSH\n",
    "    import nltk\n",
    "    import pickle\n",
    "except:\n",
    "    %pip install datasketch\n",
    "    %pip install nltk\n",
    "    %pip install pickle"
   ]
  },
  {
   "cell_type": "code",
   "execution_count": 20,
   "metadata": {},
   "outputs": [],
   "source": [
    "from nltk.tokenize import wordpunct_tokenize\n",
    "import re\n"
   ]
  },
  {
   "cell_type": "markdown",
   "metadata": {},
   "source": [
    "### Preprocessing"
   ]
  },
  {
   "cell_type": "code",
   "execution_count": 54,
   "metadata": {},
   "outputs": [],
   "source": [
    "def read_file(file_name: str) -> str:\n",
    "    \"\"\"\n",
    "    Read text files to strings by different encoding modes in case of exception\n",
    "    \"\"\"\n",
    "    try:\n",
    "        text = codecs.open(file_name).read()\n",
    "    except UnicodeDecodeError:\n",
    "        text = codecs.open(file_name, encoding='cp1252').read()\n",
    "    except FileNotFoundError:\n",
    "        text = \"\"\n",
    "    return text\n",
    "\n",
    "def create_dataset_df(file_info: str, docs_dir: str) -> pd.DataFrame:\n",
    "    \"\"\"\n",
    "    Creates a Pandas dataframe from file info, with cells with text content and binary labels on if the text includes plagiarism\n",
    "    \"\"\"\n",
    "    df = pd.read_csv(file_info)\n",
    "    df['Text'] = np.array([read_file(os.path.join(docs_dir, file)) for file in df[\"File\"]])\n",
    "    df[\"Label\"] = (df[\"Category\"]!=\"non\")\n",
    "    df = df[df[\"Category\"]!=\"orig\"]\n",
    "    df = df.drop(columns=['Category'])\n",
    "    return df"
   ]
  },
  {
   "cell_type": "code",
   "execution_count": 55,
   "metadata": {},
   "outputs": [
    {
     "data": {
      "text/html": [
       "<div>\n",
       "<style scoped>\n",
       "    .dataframe tbody tr th:only-of-type {\n",
       "        vertical-align: middle;\n",
       "    }\n",
       "\n",
       "    .dataframe tbody tr th {\n",
       "        vertical-align: top;\n",
       "    }\n",
       "\n",
       "    .dataframe thead th {\n",
       "        text-align: right;\n",
       "    }\n",
       "</style>\n",
       "<table border=\"1\" class=\"dataframe\">\n",
       "  <thead>\n",
       "    <tr style=\"text-align: right;\">\n",
       "      <th></th>\n",
       "      <th>File</th>\n",
       "      <th>Task</th>\n",
       "      <th>Text</th>\n",
       "      <th>Label</th>\n",
       "    </tr>\n",
       "  </thead>\n",
       "  <tbody>\n",
       "    <tr>\n",
       "      <th>0</th>\n",
       "      <td>g0pA_taska.txt</td>\n",
       "      <td>a</td>\n",
       "      <td>Inheritance is a basic concept of Object-Orien...</td>\n",
       "      <td>False</td>\n",
       "    </tr>\n",
       "    <tr>\n",
       "      <th>1</th>\n",
       "      <td>g0pA_taskb.txt</td>\n",
       "      <td>b</td>\n",
       "      <td>PageRank is a link analysis algorithm used by ...</td>\n",
       "      <td>True</td>\n",
       "    </tr>\n",
       "    <tr>\n",
       "      <th>2</th>\n",
       "      <td>g0pA_taskc.txt</td>\n",
       "      <td>c</td>\n",
       "      <td>The vector space model (also called, term vect...</td>\n",
       "      <td>True</td>\n",
       "    </tr>\n",
       "    <tr>\n",
       "      <th>3</th>\n",
       "      <td>g0pA_taskd.txt</td>\n",
       "      <td>d</td>\n",
       "      <td>Bayes’ theorem was names after Rev Thomas Baye...</td>\n",
       "      <td>True</td>\n",
       "    </tr>\n",
       "    <tr>\n",
       "      <th>4</th>\n",
       "      <td>g0pA_taske.txt</td>\n",
       "      <td>e</td>\n",
       "      <td>Dynamic Programming is an algorithm design tec...</td>\n",
       "      <td>False</td>\n",
       "    </tr>\n",
       "    <tr>\n",
       "      <th>...</th>\n",
       "      <td>...</td>\n",
       "      <td>...</td>\n",
       "      <td>...</td>\n",
       "      <td>...</td>\n",
       "    </tr>\n",
       "    <tr>\n",
       "      <th>90</th>\n",
       "      <td>g4pE_taska.txt</td>\n",
       "      <td>a</td>\n",
       "      <td>Object oriented programming is a  style of pro...</td>\n",
       "      <td>True</td>\n",
       "    </tr>\n",
       "    <tr>\n",
       "      <th>91</th>\n",
       "      <td>g4pE_taskb.txt</td>\n",
       "      <td>b</td>\n",
       "      <td>PageRankalgorithm is also known as link analys...</td>\n",
       "      <td>True</td>\n",
       "    </tr>\n",
       "    <tr>\n",
       "      <th>92</th>\n",
       "      <td>g4pE_taskc.txt</td>\n",
       "      <td>c</td>\n",
       "      <td>The definition of term depends on the applicat...</td>\n",
       "      <td>True</td>\n",
       "    </tr>\n",
       "    <tr>\n",
       "      <th>93</th>\n",
       "      <td>g4pE_taskd.txt</td>\n",
       "      <td>d</td>\n",
       "      <td>\"Bayes' Theorem\" or \"Bayes' Rule\", or somethin...</td>\n",
       "      <td>False</td>\n",
       "    </tr>\n",
       "    <tr>\n",
       "      <th>94</th>\n",
       "      <td>g4pE_taske.txt</td>\n",
       "      <td>e</td>\n",
       "      <td>Dynamic programming is a method for efficient...</td>\n",
       "      <td>False</td>\n",
       "    </tr>\n",
       "  </tbody>\n",
       "</table>\n",
       "<p>95 rows × 4 columns</p>\n",
       "</div>"
      ],
      "text/plain": [
       "              File Task                                               Text  \\\n",
       "0   g0pA_taska.txt    a  Inheritance is a basic concept of Object-Orien...   \n",
       "1   g0pA_taskb.txt    b  PageRank is a link analysis algorithm used by ...   \n",
       "2   g0pA_taskc.txt    c  The vector space model (also called, term vect...   \n",
       "3   g0pA_taskd.txt    d  Bayes’ theorem was names after Rev Thomas Baye...   \n",
       "4   g0pA_taske.txt    e  Dynamic Programming is an algorithm design tec...   \n",
       "..             ...  ...                                                ...   \n",
       "90  g4pE_taska.txt    a  Object oriented programming is a  style of pro...   \n",
       "91  g4pE_taskb.txt    b  PageRankalgorithm is also known as link analys...   \n",
       "92  g4pE_taskc.txt    c  The definition of term depends on the applicat...   \n",
       "93  g4pE_taskd.txt    d  \"Bayes' Theorem\" or \"Bayes' Rule\", or somethin...   \n",
       "94  g4pE_taske.txt    e   Dynamic programming is a method for efficient...   \n",
       "\n",
       "    Label  \n",
       "0   False  \n",
       "1    True  \n",
       "2    True  \n",
       "3    True  \n",
       "4   False  \n",
       "..    ...  \n",
       "90   True  \n",
       "91   True  \n",
       "92   True  \n",
       "93  False  \n",
       "94  False  \n",
       "\n",
       "[95 rows x 4 columns]"
      ]
     },
     "execution_count": 55,
     "metadata": {},
     "output_type": "execute_result"
    }
   ],
   "source": [
    "data_df = create_dataset_df(FILE_INFO, SUSPICIOUS_DOCS)\n",
    "data_df"
   ]
  },
  {
   "cell_type": "code",
   "execution_count": 84,
   "metadata": {},
   "outputs": [
    {
     "data": {
      "text/plain": [
       "array([False,  True,  True,  True, False, False, False,  True,  True,\n",
       "        True,  True, False, False,  True,  True,  True,  True,  True,\n",
       "       False, False,  True,  True, False, False,  True, False,  True,\n",
       "        True,  True, False, False, False,  True,  True,  True,  True,\n",
       "        True, False, False,  True, False,  True,  True,  True, False,\n",
       "       False, False,  True,  True,  True,  True, False, False,  True,\n",
       "        True,  True,  True,  True, False, False, False,  True,  True,\n",
       "        True, False, False, False,  True,  True,  True,  True, False,\n",
       "       False,  True,  True, False, False,  True,  True,  True,  True,\n",
       "       False, False,  True,  True,  True,  True, False, False,  True,\n",
       "        True,  True,  True, False, False])"
      ]
     },
     "execution_count": 84,
     "metadata": {},
     "output_type": "execute_result"
    }
   ],
   "source": [
    "X = data_df[\"Text\"].values\n",
    "y = data_df[\"Label\"].values"
   ]
  },
  {
   "cell_type": "code",
   "execution_count": 72,
   "metadata": {},
   "outputs": [
    {
     "data": {
      "image/png": "[encoded data removed]",
      "text/plain": [
       "<Figure size 700x500 with 1 Axes>"
      ]
     },
     "metadata": {
      "needs_background": "light"
     },
     "output_type": "display_data"
    }
   ],
   "source": [
    "import matplotlib.pyplot as plt\n",
    "plt.rcParams[\"figure.figsize\"] = (7,5)\n",
    "plt.rcParams[\"figure.dpi\"] = 100\n",
    "plt.grid()\n",
    "word_counts = np.array([len(wordpunct_tokenize(text))for text in data_df[\"Text\"]])\n",
    "plt.hist(word_counts)\n",
    "plt.xlabel(\"Word Counts\")\n",
    "plt.ylabel(\"Number of Documents\")\n",
    "plt.show()"
   ]
  },
  {
   "cell_type": "code",
   "execution_count": 80,
   "metadata": {},
   "outputs": [
    {
     "name": "stdout",
     "output_type": "stream",
     "text": [
      "Average Word Counts:\t239.56\n",
      "Standard Deviation:\t75.01\n"
     ]
    }
   ],
   "source": [
    "print(f\"\"\"Average Word Counts:\\t{np.average(word_counts).round(2)}\n",
    "Standard Deviation:\\t{np.std(word_counts).round(2)}\"\"\")"
   ]
  },
  {
   "cell_type": "markdown",
   "metadata": {},
   "source": [
    "### LSH model"
   ]
  },
  {
   "cell_type": "code",
   "execution_count": 45,
   "metadata": {},
   "outputs": [],
   "source": [
    "def create_minhash(text: str, n_gram: int, num_perm=128) -> MinHash:\n",
    "    \"\"\"\n",
    "    Tokenize text in N-grams, removes punctuations, and generates minhash from a text given ngrams and number of permutations\n",
    "    \"\"\"\n",
    "    tokens = wordpunct_tokenize(text)\n",
    "    minhash = MinHash(num_perm=num_perm)\n",
    "    for gram in nltk.ngrams(tokens, n_gram):\n",
    "        minhash.update(\" \".join(gram).encode('utf-8')) \n",
    "    return minhash\n",
    "\n",
    "def create_lsh(source_dir, threshold=.3, n_gram=3, num_perm=128) -> MinHashLSH:\n",
    "    \"\"\"\n",
    "    Create an LSH instance from text files in source directory given threshold, n-grams, and number of permutation\n",
    "    Returns an LSH object and a list of source file numbers \n",
    "    \"\"\"\n",
    "    lsh = MinHashLSH(num_perm=num_perm, threshold=threshold)\n",
    "    file_names = glob(os.path.join(source_dir, '*.txt'))\n",
    "    file_names.sort()\n",
    "    keys = []\n",
    "    minhashes = []\n",
    "    for fname in file_names:\n",
    "        text = read_file(fname)\n",
    "        minhash = create_minhash(text, n_gram, num_perm=num_perm)\n",
    "        keys.append(os.path.basename(fname))\n",
    "        minhashes.append(minhash)\n",
    "    with lsh.insertion_session() as session:\n",
    "        for key, minhash in zip(keys, minhashes):\n",
    "            session.insert(key, minhash)\n",
    "    return lsh, keys\n",
    "\n"
   ]
  },
  {
   "cell_type": "code",
   "execution_count": 46,
   "metadata": {},
   "outputs": [],
   "source": [
    "lsh, keys = create_lsh(DATA_SOURCE)"
   ]
  },
  {
   "cell_type": "markdown",
   "metadata": {},
   "source": [
    "### Model Evaluation"
   ]
  },
  {
   "cell_type": "code",
   "execution_count": 85,
   "metadata": {},
   "outputs": [],
   "source": [
    "def eval_single(lsh: MinHashLSH, text: str, n_gram: int, num_perm=128):\n",
    "    \"\"\"\n",
    "    Evaluate a single text to a MinHashLSH instance given number of grams and permutations\n",
    "    \"\"\"\n",
    "    minhash = create_minhash(text, n_gram, num_perm=num_perm)\n",
    "    result = lsh.query(minhash)\n",
    "    return len(result)>0\n",
    "\n",
    "def eval_list(lsh: MinHashLSH, texts: np.array, n_gram: int, num_perm: int)-> np.array:\n",
    "    \"\"\"\n",
    "    Given an array of texts, return a boolean array of binary classification\n",
    "    \"\"\"\n",
    "    results = []\n",
    "    for text in texts:\n",
    "        results.append(eval_single(lsh, text, n_gram, num_perm=num_perm))\n",
    "    return np.array(results)\n",
    "\n",
    "y_pred = eval_list(lsh, data_df[\"Text\"], 3, 128)"
   ]
  },
  {
   "cell_type": "markdown",
   "metadata": {},
   "source": [
    "### Testing"
   ]
  },
  {
   "cell_type": "code",
   "execution_count": 87,
   "metadata": {},
   "outputs": [],
   "source": [
    "from sklearn.metrics import accuracy_score, recall_score, f1_score, precision_score, precision_recall_curve"
   ]
  },
  {
   "cell_type": "code",
   "execution_count": 88,
   "metadata": {},
   "outputs": [
    {
     "data": {
      "text/plain": [
       "0.631578947368421"
      ]
     },
     "execution_count": 88,
     "metadata": {},
     "output_type": "execute_result"
    }
   ],
   "source": [
    "accuracy_score(y, y_pred)"
   ]
  },
  {
   "cell_type": "code",
   "execution_count": 91,
   "metadata": {},
   "outputs": [],
   "source": [
    "n_gram = 3\n",
    "jaccard_th = .05\n",
    "num_perm = 128"
   ]
  },
  {
   "cell_type": "markdown",
   "metadata": {},
   "source": [
    "#### Parameter Tuning"
   ]
  },
  {
   "cell_type": "code",
   "execution_count": 97,
   "metadata": {},
   "outputs": [
    {
     "name": "stdout",
     "output_type": "stream",
     "text": [
      "1 grams, 0.2 < jaccard, accuracy: 0.6526315789473685\n",
      "2 grams, 0.2 < jaccard, accuracy: 0.8\n",
      "3 grams, 0.2 < jaccard, accuracy: 0.7473684210526316\n",
      "4 grams, 0.2 < jaccard, accuracy: 0.6736842105263158\n",
      "5 grams, 0.2 < jaccard, accuracy: 0.7052631578947368\n",
      "6 grams, 0.2 < jaccard, accuracy: 0.6631578947368421\n",
      "7 grams, 0.2 < jaccard, accuracy: 0.631578947368421\n",
      "8 grams, 0.2 < jaccard, accuracy: 0.6\n",
      "9 grams, 0.2 < jaccard, accuracy: 0.6105263157894737\n"
     ]
    }
   ],
   "source": [
    "for n_gram in range(1, 10):\n",
    "    for jaccard_th in [.2]:\n",
    "        lsh, keys = create_lsh(DATA_SOURCE, n_gram=n_gram, threshold=jaccard_th, num_perm=num_perm)\n",
    "        results = eval_list(lsh,X, n_gram, num_perm)\n",
    "        print(f'{n_gram} grams, {jaccard_th} < jaccard, accuracy: {accuracy_score(y, results)}')\n"
   ]
  },
  {
   "cell_type": "code",
   "execution_count": null,
   "metadata": {},
   "outputs": [],
   "source": []
  }
 ],
 "metadata": {
  "interpreter": {
   "hash": "c94922506fb676f83812e148df9e303d1c678c5ed3aaf1a9305c9d04cd8ba7f0"
  },
  "kernelspec": {
   "display_name": "Python 3.9.12 ('base')",
   "language": "python",
   "name": "python3"
  },
  "language_info": {
   "codemirror_mode": {
    "name": "ipython",
    "version": 3
   },
   "file_extension": ".py",
   "mimetype": "text/x-python",
   "name": "python",
   "nbconvert_exporter": "python",
   "pygments_lexer": "ipython3",
   "version": "3.9.12"
  },
  "orig_nbformat": 4
 },
 "nbformat": 4,
 "nbformat_minor": 2
}
