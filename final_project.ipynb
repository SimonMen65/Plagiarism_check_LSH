{
 "cells": [
  {
   "cell_type": "markdown",
   "metadata": {},
   "source": [
    "## Final Project: LSH Plagiarism Checker\n",
    "## CS-UY 3943: Mining Massive Dataset  \n",
    "Zachary Zeng # `nz900`  \n",
    "Simon Men # `jm7828`"
   ]
  },
  {
   "cell_type": "markdown",
   "metadata": {},
   "source": [
    "#### File Descriptions"
   ]
  },
  {
   "cell_type": "markdown",
   "metadata": {},
   "source": [
    "* `requirements.txt` includes the names of the packages used in the project, you may run the cell beblow to install them."
   ]
  },
  {
   "cell_type": "code",
   "execution_count": 5,
   "metadata": {},
   "outputs": [],
   "source": [
    "%pip install -r \"requirements.txt\""
   ]
  },
  {
   "cell_type": "markdown",
   "metadata": {},
   "source": [
    "* `file_info.csv` is a table including the informationa about the texts \n",
    "* `source/` contains the source(original) texts in the dataset\n",
    "* `test/` contains the suspicious texts in the dataset"
   ]
  },
  {
   "cell_type": "markdown",
   "metadata": {},
   "source": [
    "### Problem description adnd Hypotheis\n",
    "In this project, we are trying to use **Locality Sensitivity Hashing** and **MinHash** to identify plagiarism based on content similarity. Note that, the plagiarism works we are trying to identify in this case are mostly exact copy and paste without parahpraseing, since other deep learning models are able to detect plagiarism with paraphraseing and word replacements. In our case, given a set of source documents and a set of suspicious documents which include varying amount of contents from source documents, the model performs a binary classification on if the suspicious document contains plagiarism. "
   ]
  },
  {
   "cell_type": "code",
   "execution_count": 33,
   "metadata": {},
   "outputs": [],
   "source": [
    "import os\n",
    "from glob import glob\n",
    "import numpy as np\n",
    "import pandas as pd"
   ]
  },
  {
   "cell_type": "code",
   "execution_count": 13,
   "metadata": {},
   "outputs": [],
   "source": [
    "DATA_SOURCE = \"./source\"\n",
    "SUSPICIOUS_DOCS = \"./test\"\n",
    "FILE_INFO = \"file_info.csv\""
   ]
  },
  {
   "cell_type": "markdown",
   "metadata": {},
   "source": [
    "### Dataset Description\n"
   ]
  },
  {
   "cell_type": "markdown",
   "metadata": {},
   "source": [
    "The dataset was created by Paul Clough from the University of Sheffield: _A Corpus of Plagiarized Short Answers_  (The original link for download has expired, but we found an alternative source https://s3.amazonaws.com/video.udacity-data.com/topher/2019/January/5c4147f9_data/data.zip).    \n",
    "The corpus includes a set of short answers on 5 different questions related to computer science.  \n",
    "The responses includes varying amount of plagiarized texts and Wikipedia.  \n",
    "The sources are also included, named as `orig_task*.txt`, where the letter following task indicates the questions corresponding to the answers.  \n",
    "The following cells include some preliminary informations about the data.\n"
   ]
  },
  {
   "cell_type": "code",
   "execution_count": 14,
   "metadata": {},
   "outputs": [
    {
     "data": {
      "text/html": [
       "<div>\n",
       "<style scoped>\n",
       "    .dataframe tbody tr th:only-of-type {\n",
       "        vertical-align: middle;\n",
       "    }\n",
       "\n",
       "    .dataframe tbody tr th {\n",
       "        vertical-align: top;\n",
       "    }\n",
       "\n",
       "    .dataframe thead th {\n",
       "        text-align: right;\n",
       "    }\n",
       "</style>\n",
       "<table border=\"1\" class=\"dataframe\">\n",
       "  <thead>\n",
       "    <tr style=\"text-align: right;\">\n",
       "      <th></th>\n",
       "      <th>File</th>\n",
       "      <th>Task</th>\n",
       "      <th>Category</th>\n",
       "    </tr>\n",
       "  </thead>\n",
       "  <tbody>\n",
       "    <tr>\n",
       "      <th>0</th>\n",
       "      <td>g0pA_taska.txt</td>\n",
       "      <td>a</td>\n",
       "      <td>non</td>\n",
       "    </tr>\n",
       "    <tr>\n",
       "      <th>1</th>\n",
       "      <td>g0pA_taskb.txt</td>\n",
       "      <td>b</td>\n",
       "      <td>cut</td>\n",
       "    </tr>\n",
       "    <tr>\n",
       "      <th>2</th>\n",
       "      <td>g0pA_taskc.txt</td>\n",
       "      <td>c</td>\n",
       "      <td>light</td>\n",
       "    </tr>\n",
       "    <tr>\n",
       "      <th>3</th>\n",
       "      <td>g0pA_taskd.txt</td>\n",
       "      <td>d</td>\n",
       "      <td>heavy</td>\n",
       "    </tr>\n",
       "    <tr>\n",
       "      <th>4</th>\n",
       "      <td>g0pA_taske.txt</td>\n",
       "      <td>e</td>\n",
       "      <td>non</td>\n",
       "    </tr>\n",
       "    <tr>\n",
       "      <th>...</th>\n",
       "      <td>...</td>\n",
       "      <td>...</td>\n",
       "      <td>...</td>\n",
       "    </tr>\n",
       "    <tr>\n",
       "      <th>95</th>\n",
       "      <td>orig_taska.txt</td>\n",
       "      <td>a</td>\n",
       "      <td>orig</td>\n",
       "    </tr>\n",
       "    <tr>\n",
       "      <th>96</th>\n",
       "      <td>orig_taskb.txt</td>\n",
       "      <td>b</td>\n",
       "      <td>orig</td>\n",
       "    </tr>\n",
       "    <tr>\n",
       "      <th>97</th>\n",
       "      <td>orig_taskc.txt</td>\n",
       "      <td>c</td>\n",
       "      <td>orig</td>\n",
       "    </tr>\n",
       "    <tr>\n",
       "      <th>98</th>\n",
       "      <td>orig_taskd.txt</td>\n",
       "      <td>d</td>\n",
       "      <td>orig</td>\n",
       "    </tr>\n",
       "    <tr>\n",
       "      <th>99</th>\n",
       "      <td>orig_taske.txt</td>\n",
       "      <td>e</td>\n",
       "      <td>orig</td>\n",
       "    </tr>\n",
       "  </tbody>\n",
       "</table>\n",
       "<p>100 rows × 3 columns</p>\n",
       "</div>"
      ],
      "text/plain": [
       "              File Task Category\n",
       "0   g0pA_taska.txt    a      non\n",
       "1   g0pA_taskb.txt    b      cut\n",
       "2   g0pA_taskc.txt    c    light\n",
       "3   g0pA_taskd.txt    d    heavy\n",
       "4   g0pA_taske.txt    e      non\n",
       "..             ...  ...      ...\n",
       "95  orig_taska.txt    a     orig\n",
       "96  orig_taskb.txt    b     orig\n",
       "97  orig_taskc.txt    c     orig\n",
       "98  orig_taskd.txt    d     orig\n",
       "99  orig_taske.txt    e     orig\n",
       "\n",
       "[100 rows x 3 columns]"
      ]
     },
     "execution_count": 14,
     "metadata": {},
     "output_type": "execute_result"
    }
   ],
   "source": [
    "pd.read_csv(FILE_INFO)"
   ]
  },
  {
   "cell_type": "markdown",
   "metadata": {},
   "source": [
    "The `Category` indicates the degree of plagiarism"
   ]
  },
  {
   "cell_type": "code",
   "execution_count": 15,
   "metadata": {},
   "outputs": [
    {
     "data": {
      "text/plain": [
       "(['./source/orig_taskd.txt',\n",
       "  './source/orig_taske.txt',\n",
       "  './source/orig_taska.txt',\n",
       "  './source/orig_taskb.txt',\n",
       "  './source/orig_taskc.txt'],\n",
       " ['./test/g0pC_taskc.txt',\n",
       "  './test/g0pE_taskd.txt',\n",
       "  './test/g0pE_taske.txt',\n",
       "  './test/g0pC_taskb.txt',\n",
       "  './test/g1pA_taske.txt',\n",
       "  './test/g3pB_taskd.txt',\n",
       "  './test/g3pB_taske.txt',\n",
       "  './test/g0pC_taska.txt',\n",
       "  './test/g1pA_taskd.txt',\n",
       "  './test/g0pC_taske.txt',\n",
       "  './test/g3pB_taska.txt',\n",
       "  './test/g0pE_taskb.txt',\n",
       "  './test/g0pE_taskc.txt',\n",
       "  './test/g0pC_taskd.txt',\n",
       "  './test/g1pA_taska.txt',\n",
       "  './test/g1pA_taskc.txt',\n",
       "  './test/g3pB_taskb.txt',\n",
       "  './test/g0pE_taska.txt',\n",
       "  './test/g3pB_taskc.txt',\n",
       "  './test/g1pA_taskb.txt',\n",
       "  './test/g2pA_taskb.txt',\n",
       "  './test/g0pD_taskd.txt',\n",
       "  './test/g0pB_taskc.txt',\n",
       "  './test/g0pB_taskb.txt',\n",
       "  './test/g0pD_taske.txt',\n",
       "  './test/g2pA_taskc.txt',\n",
       "  './test/g3pC_taskd.txt',\n",
       "  './test/g2pA_taska.txt',\n",
       "  './test/g0pB_taska.txt',\n",
       "  './test/g3pC_taske.txt',\n",
       "  './test/g3pC_taska.txt',\n",
       "  './test/g2pA_taskd.txt',\n",
       "  './test/g0pD_taskb.txt',\n",
       "  './test/g0pB_taske.txt',\n",
       "  './test/g0pB_taskd.txt',\n",
       "  './test/g0pD_taskc.txt',\n",
       "  './test/g2pA_taske.txt',\n",
       "  './test/g3pC_taskb.txt',\n",
       "  './test/g0pD_taska.txt',\n",
       "  './test/g3pC_taskc.txt',\n",
       "  './test/g2pB_taskc.txt',\n",
       "  './test/g4pC_taskb.txt',\n",
       "  './test/g0pA_taskb.txt',\n",
       "  './test/g4pE_taske.txt',\n",
       "  './test/g4pE_taskd.txt',\n",
       "  './test/g0pA_taskc.txt',\n",
       "  './test/g4pC_taskc.txt',\n",
       "  './test/g2pB_taskb.txt',\n",
       "  './test/g4pC_taska.txt',\n",
       "  './test/g0pA_taska.txt',\n",
       "  './test/g2pB_taska.txt',\n",
       "  './test/g2pB_taske.txt',\n",
       "  './test/g4pC_taskd.txt',\n",
       "  './test/g4pE_taskc.txt',\n",
       "  './test/g0pA_taskd.txt',\n",
       "  './test/g0pA_taske.txt',\n",
       "  './test/g4pE_taskb.txt',\n",
       "  './test/g4pC_taske.txt',\n",
       "  './test/g2pB_taskd.txt',\n",
       "  './test/g4pE_taska.txt',\n",
       "  './test/g4pD_taske.txt',\n",
       "  './test/g2pE_taskd.txt',\n",
       "  './test/g2pC_taskc.txt',\n",
       "  './test/g4pB_taskb.txt',\n",
       "  './test/g1pD_taska.txt',\n",
       "  './test/g4pB_taskc.txt',\n",
       "  './test/g2pC_taskb.txt',\n",
       "  './test/g2pE_taske.txt',\n",
       "  './test/g4pD_taskd.txt',\n",
       "  './test/g1pB_taskd.txt',\n",
       "  './test/g4pB_taska.txt',\n",
       "  './test/g3pA_taske.txt',\n",
       "  './test/g1pD_taskc.txt',\n",
       "  './test/g1pD_taskb.txt',\n",
       "  './test/g3pA_taskd.txt',\n",
       "  './test/g2pC_taska.txt',\n",
       "  './test/g1pB_taske.txt',\n",
       "  './test/g4pD_taskc.txt',\n",
       "  './test/g2pE_taskb.txt',\n",
       "  './test/g1pB_taska.txt',\n",
       "  './test/g2pC_taske.txt',\n",
       "  './test/g4pB_taskd.txt',\n",
       "  './test/g3pA_taska.txt',\n",
       "  './test/g4pB_taske.txt',\n",
       "  './test/g2pC_taskd.txt',\n",
       "  './test/g2pE_taskc.txt',\n",
       "  './test/g4pD_taskb.txt',\n",
       "  './test/g2pE_taska.txt',\n",
       "  './test/g1pB_taskb.txt',\n",
       "  './test/g3pA_taskc.txt',\n",
       "  './test/g1pD_taske.txt',\n",
       "  './test/g1pD_taskd.txt',\n",
       "  './test/g3pA_taskb.txt',\n",
       "  './test/g1pB_taskc.txt',\n",
       "  './test/g4pD_taska.txt'])"
      ]
     },
     "execution_count": 15,
     "metadata": {},
     "output_type": "execute_result"
    }
   ],
   "source": [
    "glob(os.path.join(DATA_SOURCE, '*.txt')), glob(os.path.join(SUSPICIOUS_DOCS, '*.txt'))"
   ]
  },
  {
   "cell_type": "markdown",
   "metadata": {},
   "source": [
    "### Preprocessing"
   ]
  },
  {
   "cell_type": "code",
   "execution_count": 17,
   "metadata": {},
   "outputs": [],
   "source": [
    "import nltk\n",
    "import codecs\n",
    "from nltk.tokenize import wordpunct_tokenize\n",
    "\n",
    "def read_file(file_name: str) -> str:\n",
    "    \"\"\"\n",
    "    Read text files to strings by different encoding modes in case of exception\n",
    "    \"\"\"\n",
    "    try:\n",
    "        text = codecs.open(file_name).read()\n",
    "    except UnicodeDecodeError:\n",
    "        text = codecs.open(file_name, encoding='cp1252').read()\n",
    "    except FileNotFoundError:\n",
    "        text = \"\"\n",
    "    return text\n",
    "\n",
    "def create_dataset_df(file_info: str, docs_dir: str) -> pd.DataFrame:\n",
    "    \"\"\"\n",
    "    Creates a Pandas dataframe from file info, with cells with text content and binary labels on if the text includes plagiarism\n",
    "    \"\"\"\n",
    "    df = pd.read_csv(file_info)\n",
    "    df['Text'] = np.array([read_file(os.path.join(docs_dir, file)) for file in df[\"File\"]])\n",
    "    df[\"Label\"] = (df[\"Category\"]!=\"non\")\n",
    "    df = df[df[\"Category\"]!=\"orig\"]\n",
    "    df = df.drop(columns=['Category'])\n",
    "    return df"
   ]
  },
  {
   "cell_type": "code",
   "execution_count": 18,
   "metadata": {},
   "outputs": [
    {
     "data": {
      "text/html": [
       "<div>\n",
       "<style scoped>\n",
       "    .dataframe tbody tr th:only-of-type {\n",
       "        vertical-align: middle;\n",
       "    }\n",
       "\n",
       "    .dataframe tbody tr th {\n",
       "        vertical-align: top;\n",
       "    }\n",
       "\n",
       "    .dataframe thead th {\n",
       "        text-align: right;\n",
       "    }\n",
       "</style>\n",
       "<table border=\"1\" class=\"dataframe\">\n",
       "  <thead>\n",
       "    <tr style=\"text-align: right;\">\n",
       "      <th></th>\n",
       "      <th>File</th>\n",
       "      <th>Task</th>\n",
       "      <th>Text</th>\n",
       "      <th>Label</th>\n",
       "    </tr>\n",
       "  </thead>\n",
       "  <tbody>\n",
       "    <tr>\n",
       "      <th>0</th>\n",
       "      <td>g0pA_taska.txt</td>\n",
       "      <td>a</td>\n",
       "      <td>Inheritance is a basic concept of Object-Orien...</td>\n",
       "      <td>False</td>\n",
       "    </tr>\n",
       "    <tr>\n",
       "      <th>1</th>\n",
       "      <td>g0pA_taskb.txt</td>\n",
       "      <td>b</td>\n",
       "      <td>PageRank is a link analysis algorithm used by ...</td>\n",
       "      <td>True</td>\n",
       "    </tr>\n",
       "    <tr>\n",
       "      <th>2</th>\n",
       "      <td>g0pA_taskc.txt</td>\n",
       "      <td>c</td>\n",
       "      <td>The vector space model (also called, term vect...</td>\n",
       "      <td>True</td>\n",
       "    </tr>\n",
       "    <tr>\n",
       "      <th>3</th>\n",
       "      <td>g0pA_taskd.txt</td>\n",
       "      <td>d</td>\n",
       "      <td>Bayes’ theorem was names after Rev Thomas Baye...</td>\n",
       "      <td>True</td>\n",
       "    </tr>\n",
       "    <tr>\n",
       "      <th>4</th>\n",
       "      <td>g0pA_taske.txt</td>\n",
       "      <td>e</td>\n",
       "      <td>Dynamic Programming is an algorithm design tec...</td>\n",
       "      <td>False</td>\n",
       "    </tr>\n",
       "    <tr>\n",
       "      <th>...</th>\n",
       "      <td>...</td>\n",
       "      <td>...</td>\n",
       "      <td>...</td>\n",
       "      <td>...</td>\n",
       "    </tr>\n",
       "    <tr>\n",
       "      <th>90</th>\n",
       "      <td>g4pE_taska.txt</td>\n",
       "      <td>a</td>\n",
       "      <td>Object oriented programming is a  style of pro...</td>\n",
       "      <td>True</td>\n",
       "    </tr>\n",
       "    <tr>\n",
       "      <th>91</th>\n",
       "      <td>g4pE_taskb.txt</td>\n",
       "      <td>b</td>\n",
       "      <td>PageRankalgorithm is also known as link analys...</td>\n",
       "      <td>True</td>\n",
       "    </tr>\n",
       "    <tr>\n",
       "      <th>92</th>\n",
       "      <td>g4pE_taskc.txt</td>\n",
       "      <td>c</td>\n",
       "      <td>The definition of term depends on the applicat...</td>\n",
       "      <td>True</td>\n",
       "    </tr>\n",
       "    <tr>\n",
       "      <th>93</th>\n",
       "      <td>g4pE_taskd.txt</td>\n",
       "      <td>d</td>\n",
       "      <td>\"Bayes' Theorem\" or \"Bayes' Rule\", or somethin...</td>\n",
       "      <td>False</td>\n",
       "    </tr>\n",
       "    <tr>\n",
       "      <th>94</th>\n",
       "      <td>g4pE_taske.txt</td>\n",
       "      <td>e</td>\n",
       "      <td>Dynamic programming is a method for efficient...</td>\n",
       "      <td>False</td>\n",
       "    </tr>\n",
       "  </tbody>\n",
       "</table>\n",
       "<p>95 rows × 4 columns</p>\n",
       "</div>"
      ],
      "text/plain": [
       "              File Task                                               Text  \\\n",
       "0   g0pA_taska.txt    a  Inheritance is a basic concept of Object-Orien...   \n",
       "1   g0pA_taskb.txt    b  PageRank is a link analysis algorithm used by ...   \n",
       "2   g0pA_taskc.txt    c  The vector space model (also called, term vect...   \n",
       "3   g0pA_taskd.txt    d  Bayes’ theorem was names after Rev Thomas Baye...   \n",
       "4   g0pA_taske.txt    e  Dynamic Programming is an algorithm design tec...   \n",
       "..             ...  ...                                                ...   \n",
       "90  g4pE_taska.txt    a  Object oriented programming is a  style of pro...   \n",
       "91  g4pE_taskb.txt    b  PageRankalgorithm is also known as link analys...   \n",
       "92  g4pE_taskc.txt    c  The definition of term depends on the applicat...   \n",
       "93  g4pE_taskd.txt    d  \"Bayes' Theorem\" or \"Bayes' Rule\", or somethin...   \n",
       "94  g4pE_taske.txt    e   Dynamic programming is a method for efficient...   \n",
       "\n",
       "    Label  \n",
       "0   False  \n",
       "1    True  \n",
       "2    True  \n",
       "3    True  \n",
       "4   False  \n",
       "..    ...  \n",
       "90   True  \n",
       "91   True  \n",
       "92   True  \n",
       "93  False  \n",
       "94  False  \n",
       "\n",
       "[95 rows x 4 columns]"
      ]
     },
     "execution_count": 18,
     "metadata": {},
     "output_type": "execute_result"
    }
   ],
   "source": [
    "data_df = create_dataset_df(FILE_INFO, SUSPICIOUS_DOCS)\n",
    "data_df"
   ]
  },
  {
   "cell_type": "markdown",
   "metadata": {},
   "source": [
    "Sample suspicious text"
   ]
  },
  {
   "cell_type": "code",
   "execution_count": 62,
   "metadata": {},
   "outputs": [
    {
     "name": "stdout",
     "output_type": "stream",
     "text": [
      "PageRank is a link analysis algorithm used by the Google Internet search engine that assigns a numerical weighting to each element of a hyperlinked set of documents, such as the World Wide Web, with the purpose of \"measuring\" its relative importance within the set. Google assigns a numeric weighting from 0-10 for each webpage on the Internet; this PageRank? denotes a site’s importance in the eyes of Google.\n",
      "\n",
      "The PageRank? is derived from a theoretical probability value on a logarithmic scale like the Richter Scale. The PageRank? of a particular page is roughly based upon the quantity of inbound links as well as the PageRank? of the pages providing the links. The algorithm may be applied to any collection of entities with reciprocal quotations and references. The numerical weight that it assigns to any given element E is also called the PageRank? of E and denoted by PR(E).\n",
      "\n",
      "It is known that other factors, e.g. relevance of search words on the page and actual visits to the page reported by the Google toolbar also influence the PageRank?. Other link-based ranking algorithms for Web pages include the HITS algorithm invented by Jon Kleinberg (used by Teoma and now Ask.com), the IBM CLEVER project, and the TrustRank? algorithm. \n",
      "\n"
     ]
    }
   ],
   "source": [
    "print(data_df.iloc[1][\"Text\"]) "
   ]
  },
  {
   "cell_type": "code",
   "execution_count": 20,
   "metadata": {},
   "outputs": [
    {
     "data": {
      "image/png": "[encoded data removed]",
      "text/plain": [
       "<Figure size 700x500 with 1 Axes>"
      ]
     },
     "metadata": {
      "needs_background": "light"
     },
     "output_type": "display_data"
    }
   ],
   "source": [
    "import matplotlib.pyplot as plt\n",
    "plt.rcParams[\"figure.figsize\"] = (7,5)\n",
    "plt.rcParams[\"figure.dpi\"] = 100\n",
    "plt.grid()\n",
    "word_counts = np.array([len(wordpunct_tokenize(text))for text in data_df[\"Text\"]])\n",
    "plt.hist(word_counts)\n",
    "plt.xlabel(\"Word Counts\")\n",
    "plt.ylabel(\"Number of Documents\")\n",
    "plt.show()"
   ]
  },
  {
   "cell_type": "code",
   "execution_count": 21,
   "metadata": {},
   "outputs": [
    {
     "name": "stdout",
     "output_type": "stream",
     "text": [
      "Average Word Counts:\t239.56\n",
      "Standard Deviation:\t75.01\n"
     ]
    }
   ],
   "source": [
    "print(f\"\"\"Average Word Counts:\\t{np.average(word_counts).round(2)}\n",
    "Standard Deviation:\\t{np.std(word_counts).round(2)}\"\"\")"
   ]
  },
  {
   "cell_type": "code",
   "execution_count": 32,
   "metadata": {},
   "outputs": [
    {
     "name": "stdout",
     "output_type": "stream",
     "text": [
      "Positive samples: 57 \n",
      "Negative samples: 38\n"
     ]
    }
   ],
   "source": [
    "print(f\"Positive samples: {np.sum((y==True).astype(int))} \\nNegative samples: {np.sum((y==False).astype(int))}\")"
   ]
  },
  {
   "cell_type": "markdown",
   "metadata": {},
   "source": [
    "### LSH Model Creation\n",
    "We used the API in a package called `datasketch` to build our model.  \n",
    "* `MinHash` is an instance from the package that hold the minimal hash values of a set strings, given a number of permutations.  \n",
    "* `create_minhash` takes a string text, removes it puncutations, tokenize it in n grams, and feed them to a new `MinHash` instance.    \n",
    "* `create_lsh` reads the texts in the source directory, creates their MinHash and update them to a new `MinHashLSH` model given its jaccard similarity threshold and number of permutations.  "
   ]
  },
  {
   "cell_type": "code",
   "execution_count": 22,
   "metadata": {},
   "outputs": [],
   "source": [
    "from datasketch import MinHash, MinHashLSH\n",
    "\n",
    "def create_minhash(text: str, n_gram: int, num_perm=128) -> MinHash:\n",
    "    \"\"\"\n",
    "    Tokenize text in N-grams, removes punctuations, and generates minhash from a text given ngrams and number of permutations\n",
    "    \"\"\"\n",
    "    tokens = wordpunct_tokenize(text)\n",
    "    minhash = MinHash(num_perm=num_perm)\n",
    "    for gram in nltk.ngrams(tokens, n_gram):\n",
    "        minhash.update(\" \".join(gram).encode('utf-8')) \n",
    "    return minhash\n",
    "\n",
    "def create_lsh(source_dir: str, threshold=.3, n_gram=3, num_perm=128) -> MinHashLSH:\n",
    "    \"\"\"\n",
    "    Create an LSH instance from text files in source directory given threshold, n-grams, and number of permutation\n",
    "    Returns an LSH object and a list of key indicates the source files\n",
    "    \"\"\"\n",
    "    lsh = MinHashLSH(num_perm=num_perm, threshold=threshold)\n",
    "    file_names = glob(os.path.join(source_dir, '*.txt'))\n",
    "    file_names.sort()\n",
    "    keys = []\n",
    "    minhashes = []\n",
    "    for fname in file_names:\n",
    "        text = read_file(fname)\n",
    "        minhash = create_minhash(text, n_gram, num_perm=num_perm)\n",
    "        keys.append(os.path.basename(fname))\n",
    "        minhashes.append(minhash)\n",
    "    with lsh.insertion_session() as session:\n",
    "        for key, minhash in zip(keys, minhashes):\n",
    "            session.insert(key, minhash)\n",
    "    return lsh, keys\n",
    "\n",
    "def add_lsh_source(lsh: MinHashLSH, text: str, key: str, n_gram: int, num_perm: int):\n",
    "    \"\"\"\n",
    "    Add additional source texts to an existant LSH model, this can be used during deployment update \n",
    "    \"\"\"\n",
    "    minhash = create_minhash(text, n_gram, num_perm)\n",
    "    lsh.insert(key, minhash)\n",
    "    return"
   ]
  },
  {
   "cell_type": "markdown",
   "metadata": {},
   "source": [
    "### Model Methods\n",
    "Our model works by creating a `MinHashLSH` instance that holds the minhashes of the source texts.  \n",
    "When a suspicious document is evaluted by the model, model compares their minhashes, calculates their jaccard similarity, and returns if the similarity is above the model's threshold."
   ]
  },
  {
   "cell_type": "code",
   "execution_count": 34,
   "metadata": {},
   "outputs": [],
   "source": [
    "def eval_single(lsh: MinHashLSH, text: str, n_gram: int, num_perm=128) -> bool:\n",
    "    \"\"\"\n",
    "    Evaluate a single text to a MinHashLSH instance given number of grams and permutations\n",
    "    \"\"\"\n",
    "    minhash = create_minhash(text, n_gram, num_perm=num_perm)\n",
    "    keys = lsh.query(minhash)\n",
    "    return len(keys)>0\n",
    "\n",
    "def eval_list(lsh: MinHashLSH, texts: np.array, n_gram: int, num_perm: int)-> np.array:\n",
    "    \"\"\"\n",
    "    Given an array of texts, return a boolean array of binary classification\n",
    "    \"\"\"\n",
    "    results = []\n",
    "    for text in texts:\n",
    "        result = eval_single(lsh, text, n_gram, num_perm=num_perm)\n",
    "        results.append(result)\n",
    "    return np.array(results)"
   ]
  },
  {
   "cell_type": "markdown",
   "metadata": {},
   "source": [
    "### Model Deployment\n",
    "The model can also be saved and reload for deployment"
   ]
  },
  {
   "cell_type": "code",
   "execution_count": 39,
   "metadata": {},
   "outputs": [],
   "source": [
    "import pickle\n",
    "def save_lsh(model: MinHashLSH, file_dir: str):\n",
    "    \"\"\"\n",
    "    Save the LSH model to a given directory in binary format using pickle\n",
    "    \"\"\"\n",
    "    with open(file_dir, 'wb+') as file:\n",
    "        pickle.dump(model, file)\n",
    "    return\n",
    "\n",
    "def load_lsh(model_dir: str) -> MinHashLSH:\n",
    "    \"\"\"\n",
    "    Load a pickled LSH model to memory\n",
    "    \"\"\"\n",
    "    try:\n",
    "        with open(model_dir, 'r') as file:\n",
    "            return pickle.load(file)\n",
    "    except:\n",
    "        print(f\"Model: {model_dir} doesn't exist or in unsupported format!\")"
   ]
  },
  {
   "cell_type": "markdown",
   "metadata": {},
   "source": [
    "### Testing and Evalutation\n",
    "Testing the model with default parameters and calculating relevant metrics for true and predicted binary output result."
   ]
  },
  {
   "cell_type": "code",
   "execution_count": 52,
   "metadata": {},
   "outputs": [],
   "source": [
    "from sklearn.metrics import accuracy_score, recall_score, f1_score, precision_score"
   ]
  },
  {
   "cell_type": "code",
   "execution_count": 59,
   "metadata": {},
   "outputs": [],
   "source": [
    "X = data_df[\"Text\"].values\n",
    "y = data_df[\"Label\"].values\n",
    "n_gram = 3\n",
    "jaccard_th = .1\n",
    "num_perm = 128\n",
    "lsh, keys = create_lsh(DATA_SOURCE, jaccard_th, n_gram, num_perm)\n",
    "y_pred = eval_list(lsh, X, n_gram, num_perm)"
   ]
  },
  {
   "cell_type": "code",
   "execution_count": 64,
   "metadata": {},
   "outputs": [
    {
     "name": "stdout",
     "output_type": "stream",
     "text": [
      "\n",
      "Accuracy: 0.8105263157894737, \n",
      "Recall: 0.6842105263157895, \n",
      "Precision: 1.0, \n",
      "F1 score: 0.8125000000000001\n"
     ]
    }
   ],
   "source": [
    "print(f\"\\nAccuracy: {accuracy_score(y, y_pred)}, \\nRecall: {recall_score(y, y_pred)}, \\nPrecision: {precision_score(y, y_pred)}, \\nF1 score: {f1_score(y, y_pred)}\")"
   ]
  },
  {
   "cell_type": "markdown",
   "metadata": {},
   "source": [
    "The preliminary Accuracy for this model is acceptable. Note that the precision is 1, meaining there is no false positive sample. This is explainable by the nature of LSH and the current sample size."
   ]
  },
  {
   "cell_type": "markdown",
   "metadata": {},
   "source": [
    "#### Evaluating the effects of different preprocessing techniques: n-grams"
   ]
  },
  {
   "cell_type": "code",
   "execution_count": 69,
   "metadata": {},
   "outputs": [
    {
     "name": "stdout",
     "output_type": "stream",
     "text": [
      "1 grams, accuracy: 0.62 \tF1 score: 0.76\n",
      "2 grams, accuracy: 0.85 \tF1 score: 0.8793103448275862\n",
      "3 grams, accuracy: 0.81 \tF1 score: 0.8125000000000001\n",
      "4 grams, accuracy: 0.77 \tF1 score: 0.7608695652173912\n",
      "5 grams, accuracy: 0.76 \tF1 score: 0.7472527472527472\n",
      "6 grams, accuracy: 0.74 \tF1 score: 0.7191011235955056\n",
      "7 grams, accuracy: 0.68 \tF1 score: 0.6428571428571429\n",
      "8 grams, accuracy: 0.65 \tF1 score: 0.5925925925925926\n",
      "9 grams, accuracy: 0.67 \tF1 score: 0.6265060240963854\n",
      "10 grams, accuracy: 0.66 \tF1 score: 0.6097560975609756\n"
     ]
    }
   ],
   "source": [
    "jaccard_th = .1\n",
    "num_perm = 128\n",
    "for n_gram in range(1, 11):\n",
    "    lsh, keys = create_lsh(DATA_SOURCE, n_gram=n_gram, threshold=jaccard_th, num_perm=num_perm)\n",
    "    results = eval_list(lsh, X, n_gram, num_perm)\n",
    "    print(f'{n_gram} grams, accuracy: {accuracy_score(y, results).round(2)} \\tF1 score: {f1_score(y, results)}')\n"
   ]
  },
  {
   "cell_type": "markdown",
   "metadata": {},
   "source": [
    "According to the accuracy scores, 2, 3 grams tokenization best captures the essential information from the texts. While 1 gram doesn't necessarily captures the sequence of words and produces more false positves, higher grams (> 5) are too sparse "
   ]
  },
  {
   "cell_type": "markdown",
   "metadata": {},
   "source": [
    "#### Changing Jaccard Similarity Threshold"
   ]
  },
  {
   "cell_type": "code",
   "execution_count": 70,
   "metadata": {},
   "outputs": [
    {
     "name": "stdout",
     "output_type": "stream",
     "text": [
      "jaccard similarity: 0.001, accuracy: 0.63 \tF1 score: 0.7651006711409396\n",
      "jaccard similarity: 0.01, accuracy: 0.63 \tF1 score: 0.7651006711409396\n",
      "jaccard similarity: 0.05, accuracy: 0.8 \tF1 score: 0.8527131782945737\n",
      "jaccard similarity: 0.1, accuracy: 0.81 \tF1 score: 0.8125000000000001\n",
      "jaccard similarity: 0.2, accuracy: 0.75 \tF1 score: 0.7333333333333334\n"
     ]
    }
   ],
   "source": [
    "n_gram = 3\n",
    "num_perm = 128\n",
    "for jaccard_th in [.001, .01, .05, .1, .2]:\n",
    "    lsh, keys = create_lsh(DATA_SOURCE, n_gram=n_gram, threshold=jaccard_th, num_perm=num_perm)\n",
    "    results = eval_list(lsh, X, n_gram, num_perm)\n",
    "    print(f'jaccard similarity: {jaccard_th}, accuracy: {accuracy_score(y, results).round(2)} \\tF1 score: {f1_score(y, results)}')\n"
   ]
  },
  {
   "cell_type": "markdown",
   "metadata": {},
   "source": [
    "Jaccard similarity between suspicious docs and sources with 3 gram tokenization is around 0.05 to 0.1 in this case"
   ]
  },
  {
   "cell_type": "markdown",
   "metadata": {},
   "source": [
    "#### Effects of number of permutation buckets"
   ]
  },
  {
   "cell_type": "code",
   "execution_count": 77,
   "metadata": {},
   "outputs": [],
   "source": [
    "accs = []\n",
    "jaccard_th = .1\n",
    "n_gram = 3\n",
    "perms = np.arange(2, 256, 10)\n",
    "for num_perm in perms:\n",
    "    lsh, keys = create_lsh(DATA_SOURCE, n_gram=n_gram, threshold=jaccard_th, num_perm=num_perm)\n",
    "    results = eval_list(lsh,X, n_gram, num_perm)\n",
    "    accs.append(accuracy_score(y, results))"
   ]
  },
  {
   "cell_type": "code",
   "execution_count": 79,
   "metadata": {},
   "outputs": [
    {
     "data": {
      "image/png": "[encoded data removed]",
      "text/plain": [
       "<Figure size 700x500 with 1 Axes>"
      ]
     },
     "metadata": {
      "needs_background": "light"
     },
     "output_type": "display_data"
    }
   ],
   "source": [
    "plt.plot(perms, accs, '-*')\n",
    "plt.xlabel(\"Number of Permutations\")\n",
    "plt.ylabel(\"Accuracy\")\n",
    "plt.grid()\n",
    "plt.show()"
   ]
  },
  {
   "cell_type": "markdown",
   "metadata": {},
   "source": [
    "For this dataset with 3 grams, the accuracy score for the model has a local minimum with around 80 permutations"
   ]
  },
  {
   "cell_type": "markdown",
   "metadata": {},
   "source": [
    "### Results, Business Application & Use cases\n",
    "The model can be used in plagiarism detectation with near duplicate copies, as well as, content similarity search.  \n",
    "In our project, the model is able to successfully identify plagiarism in short question answers with sources from Wikiepdia page. It can also be potentially used to reduce query time when doing content similarity search for recommendation systems for users.  The model can also be deployed in a live system with constant updates from new sources texts informations.  \n"
   ]
  }
 ],
 "metadata": {
  "interpreter": {
   "hash": "c94922506fb676f83812e148df9e303d1c678c5ed3aaf1a9305c9d04cd8ba7f0"
  },
  "kernelspec": {
   "display_name": "Python 3.9.12 ('base')",
   "language": "python",
   "name": "python3"
  },
  "language_info": {
   "codemirror_mode": {
    "name": "ipython",
    "version": 3
   },
   "file_extension": ".py",
   "mimetype": "text/x-python",
   "name": "python",
   "nbconvert_exporter": "python",
   "pygments_lexer": "ipython3",
   "version": "3.9.12"
  },
  "orig_nbformat": 4
 },
 "nbformat": 4,
 "nbformat_minor": 2
}
